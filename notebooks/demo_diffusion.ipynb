{
 "cells": [
  {
   "cell_type": "code",
   "execution_count": 10,
   "id": "412ea4c2-cc07-4b42-a0c3-9b1bc1f93b84",
   "metadata": {
    "tags": []
   },
   "outputs": [
    {
     "ename": "ImportError",
     "evalue": "cannot import name 'get_down_block' from 'src.model.unets.unet_1d_blocks' (/gpfs/space/home/kkh/vldm_ood/src/model/unets/unet_1d_blocks.py)",
     "output_type": "error",
     "traceback": [
      "\u001b[0;31m---------------------------------------------------------------------------\u001b[0m",
      "\u001b[0;31mImportError\u001b[0m                               Traceback (most recent call last)",
      "Cell \u001b[0;32mIn[10], line 5\u001b[0m\n\u001b[1;32m      2\u001b[0m \u001b[38;5;28;01mimport\u001b[39;00m \u001b[38;5;21;01mos\u001b[39;00m\n\u001b[1;32m      3\u001b[0m rootutils\u001b[38;5;241m.\u001b[39msetup_root(os\u001b[38;5;241m.\u001b[39mgetcwd(), pythonpath\u001b[38;5;241m=\u001b[39m\u001b[38;5;28;01mTrue\u001b[39;00m, indicator\u001b[38;5;241m=\u001b[39m\u001b[38;5;124m'\u001b[39m\u001b[38;5;124m.project_root\u001b[39m\u001b[38;5;124m'\u001b[39m)\n\u001b[0;32m----> 5\u001b[0m \u001b[38;5;28;01mfrom\u001b[39;00m \u001b[38;5;21;01msrc\u001b[39;00m\u001b[38;5;21;01m.\u001b[39;00m\u001b[38;5;21;01mmodel\u001b[39;00m\u001b[38;5;21;01m.\u001b[39;00m\u001b[38;5;21;01munets\u001b[39;00m\u001b[38;5;21;01m.\u001b[39;00m\u001b[38;5;21;01munet_1d\u001b[39;00m \u001b[38;5;28;01mimport\u001b[39;00m UNet1DModel\n",
      "File \u001b[0;32m~/vldm_ood/src/model/unets/unet_1d.py:22\u001b[0m\n\u001b[1;32m     19\u001b[0m \u001b[38;5;28;01mimport\u001b[39;00m \u001b[38;5;21;01mtorch\u001b[39;00m\u001b[38;5;21;01m.\u001b[39;00m\u001b[38;5;21;01mnn\u001b[39;00m \u001b[38;5;28;01mas\u001b[39;00m \u001b[38;5;21;01mnn\u001b[39;00m\n\u001b[1;32m     21\u001b[0m \u001b[38;5;28;01mfrom\u001b[39;00m \u001b[38;5;21;01m.\u001b[39;00m\u001b[38;5;21;01membeddings\u001b[39;00m \u001b[38;5;28;01mimport\u001b[39;00m GaussianFourierProjection, TimestepEmbedding, Timesteps\n\u001b[0;32m---> 22\u001b[0m \u001b[38;5;28;01mfrom\u001b[39;00m \u001b[38;5;21;01m.\u001b[39;00m\u001b[38;5;21;01munet_1d_blocks\u001b[39;00m \u001b[38;5;28;01mimport\u001b[39;00m get_down_block, get_mid_block, get_out_block, get_up_block\n\u001b[1;32m     27\u001b[0m \u001b[38;5;129m@dataclass\u001b[39m\n\u001b[1;32m     28\u001b[0m \u001b[38;5;28;01mclass\u001b[39;00m \u001b[38;5;21;01mUNet1DOutput\u001b[39;00m:\n\u001b[1;32m     29\u001b[0m \u001b[38;5;250m    \u001b[39m\u001b[38;5;124;03m\"\"\"\u001b[39;00m\n\u001b[1;32m     30\u001b[0m \u001b[38;5;124;03m    The output of [`UNet1DModel`].\u001b[39;00m\n\u001b[1;32m     31\u001b[0m \n\u001b[0;32m   (...)\u001b[0m\n\u001b[1;32m     34\u001b[0m \u001b[38;5;124;03m            The hidden states output from the last layer of the model.\u001b[39;00m\n\u001b[1;32m     35\u001b[0m \u001b[38;5;124;03m    \"\"\"\u001b[39;00m\n",
      "\u001b[0;31mImportError\u001b[0m: cannot import name 'get_down_block' from 'src.model.unets.unet_1d_blocks' (/gpfs/space/home/kkh/vldm_ood/src/model/unets/unet_1d_blocks.py)"
     ]
    }
   ],
   "source": [
    "import rootutils\n",
    "import os\n",
    "rootutils.setup_root(os.getcwd(), pythonpath=True, indicator='.project_root')\n",
    "\n",
    "from src.model.unets.unet_1d import UNet1DModel"
   ]
  },
  {
   "cell_type": "code",
   "execution_count": null,
   "id": "541e9b30-d084-437c-8653-02c6ecd340b4",
   "metadata": {},
   "outputs": [],
   "source": [
    "inp_sample = torch.randn(64, 512, 1)\n",
    "\n",
    "model = UNet1DModel(in_channels=1, out_channels=1)\n",
    "\n",
    "model(inp_sample)"
   ]
  }
 ],
 "metadata": {
  "kernelspec": {
   "display_name": "vldm2",
   "language": "python",
   "name": "vldm2"
  },
  "language_info": {
   "codemirror_mode": {
    "name": "ipython",
    "version": 3
   },
   "file_extension": ".py",
   "mimetype": "text/x-python",
   "name": "python",
   "nbconvert_exporter": "python",
   "pygments_lexer": "ipython3",
   "version": "3.11.9"
  }
 },
 "nbformat": 4,
 "nbformat_minor": 5
}
